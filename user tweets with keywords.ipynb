{
 "cells": [
  {
   "cell_type": "code",
   "execution_count": 29,
   "metadata": {},
   "outputs": [],
   "source": [
    "#importing libraries \n",
    "import tweepy as ty  "
   ]
  },
  {
   "cell_type": "code",
   "execution_count": 30,
   "metadata": {},
   "outputs": [],
   "source": [
    "#credentials from twitter developer account to access Twitter API\n",
    "API_KEY = \"EdPmtRUn6Vg6KmHTScV1ifvQ8\"\n",
    "API_SECRET_KEY = \"I6ciqgOYyEdwa7wJMoevOEhGJalDQk2ejpm29OXGxHMw6F5FRQ\"\n",
    "ACCESS_TOKEN = \"506002267-JwAStJ1BoBhH40ORyVmxOdypvx3drmgwSzBKtBgB\"\n",
    "ACCESS_TOKEN_SECRET = \"tlwYiNwmLhBkWSzAummxnIkFKvjOQMpdsL97vmYush7t9\""
   ]
  },
  {
   "cell_type": "code",
   "execution_count": 31,
   "metadata": {},
   "outputs": [],
   "source": [
    "# authentication with Twitter API\n",
    "authentication = ty.OAuthHandler(API_KEY,API_SECRET_KEY)\n",
    "authentication.set_access_token(ACCESS_TOKEN,ACCESS_TOKEN_SECRET)\n",
    "#creating an API object to pull data from Twitter and passing in the authentication\n",
    "api = ty.API(authentication,wait_on_rate_limit=True)"
   ]
  },
  {
   "cell_type": "code",
   "execution_count": 32,
   "metadata": {},
   "outputs": [
    {
     "name": "stdout",
     "output_type": "stream",
     "text": [
      "2020-07-14 14:40:18 \n",
      " shamankaur \n",
      " Toronto, ON \n",
      " This Tweet is for Data Mining activity only. 😆🤪\n",
      "2020-04-07 11:44:46 \n",
      " shamankaur \n",
      " Toronto, ON \n",
      " When your manager  binge watched Money Heist.\n",
      "#workplacewellness #lululemon @ lululemon Mississauga https://t.co/wL7nA5DolV\n",
      "2019-11-26 02:44:20 \n",
      " shamankaur \n",
      " Toronto, ON \n",
      " @RanjanS45412675 Hi, it's been so long. How are you?\n",
      "2019-05-16 03:41:24 \n",
      " shamankaur \n",
      " Toronto, ON \n",
      " RT @RickandMorty: November. Rick and Morty is returning in November.\n",
      "#WarnerMediaUpfront @adultswim https://t.co/GCkuw7RxOa\n",
      "2019-05-09 03:27:23 \n",
      " shamankaur \n",
      " Toronto, ON \n",
      " RT @jap_the_jyot: Ok. So. I have a bit of an obsession with Asa Ki Vaar (as it is colloquially called). All Baani is my favorite. BUT damn…\n",
      "2019-03-27 06:10:44 \n",
      " shamankaur \n",
      " Toronto, ON \n",
      " RT @mathewmantony: We the people of India should not forget the cold blooded murder of #GauriLankesh for her writings against @RSSorg &amp; @BJ…\n",
      "2019-03-09 17:03:13 \n",
      " shamankaur \n",
      " Toronto, ON \n",
      " @Ravi995376 @MehboobaMufti This picture is beautiful. It reflects love and tolerance of each other's beliefs. \n",
      "❤️❤️❤️❤️💞\n",
      "2019-03-09 16:58:55 \n",
      " shamankaur \n",
      " Toronto, ON \n",
      " RT @AdityaMenon22: 'Breaking' News https://t.co/90LUvOW7AV\n",
      "2019-03-09 11:05:29 \n",
      " shamankaur \n",
      " Toronto, ON \n",
      " Lahore - the symbol of nationalism,the birthplace of the Pakistan movement - cannot acknowledge it's Hindu heritage,for that would be tantamount to treason. Pakistan is meant to be the… https://t.co/S1xuOegVQc\n",
      "2019-03-09 05:27:25 \n",
      " shamankaur \n",
      " Toronto, ON \n",
      " @MehboobaMufti Ajj kal aalam aisa hai k sabhi janwaro ki sunte hai aur Insano par bhonktey hain.\n"
     ]
    }
   ],
   "source": [
    "# getting tweets from timeline using api object\n",
    "Latest_Timeline_tweets = api.user_timeline(tweet_mode='extended',count=10) \n",
    "for single_tweet in Latest_Timeline_tweets:\n",
    "    print(single_tweet.created_at,\"\\n\", single_tweet.user.screen_name , \"\\n\", single_tweet.user.location,\"\\n\", \n",
    "          single_tweet.full_text)"
   ]
  },
  {
   "cell_type": "code",
   "execution_count": 33,
   "metadata": {},
   "outputs": [
    {
     "name": "stdout",
     "output_type": "stream",
     "text": [
      "RT @BigData_Joe: Infographic: Simple Linear Regression\n",
      "\n",
      "#theinsaneapp #ML #AI\n",
      "#MachineLearning #BigData #DataScience #IoT #RStats #javascri…\n",
      "RT @coding_monkeys: Nobody:⁣⁣\n",
      "Bored animators during quarantine:⁣⁣\n",
      "\n",
      "#Python #rstats #java #javascript #AWS #100DaysOfCode #ReactJS #Coding…\n",
      "RT @Bukmedianet1: #NeuralNetworks \n",
      "Artificial Neural Networks with NeuroLab and Python =&gt; https://t.co/3Av5y7cszx\n",
      "     \n",
      "#DataScience #Books…\n",
      "RT @Bukmedianet1: #NeuralNetworks \n",
      "Artificial Neural Networks with NeuroLab and Python =&gt; https://t.co/3Av5y7cszx\n",
      "     \n",
      "#DataScience #Books…\n",
      "RT @Bukmedianet1: #NeuralNetworks \n",
      "Artificial Neural Networks with NeuroLab and Python =&gt; https://t.co/3Av5y7cszx\n",
      "     \n",
      "#DataScience #Books…\n",
      "RT @coding_monkeys: Nobody:⁣⁣\n",
      "Bored animators during quarantine:⁣⁣\n",
      "\n",
      "#Python #rstats #java #javascript #AWS #100DaysOfCode #ReactJS #Coding…\n",
      "RT @MisraYashasvi: #100DaysOfCode\n",
      "Day 6⃣1⃣\n",
      "Halfway through my lesson 2 on Udacity ML foundational course of Azure ML Nanodegree challenge o…\n",
      "RT @coding_monkeys: Nobody:⁣⁣\n",
      "Bored animators during quarantine:⁣⁣\n",
      "\n",
      "#Python #rstats #java #javascript #AWS #100DaysOfCode #ReactJS #Coding…\n",
      "RT @couponfree01: Udemy Free Discount - The Complete Neural Networks Bootcamp: Theory, Applications #udemycoupon -&gt; https://t.co/lyIyPMS7kg…\n",
      "RT @MisraYashasvi: #100DaysOfCode\n",
      "Day 6⃣1⃣\n",
      "Halfway through my lesson 2 on Udacity ML foundational course of Azure ML Nanodegree challenge o…\n"
     ]
    }
   ],
   "source": [
    "#Searching Tweets using keywords\n",
    "\n",
    "key_word=\"#python\"   \n",
    "tweets= ty.Cursor(api.search, q=key_word, lang=\"en\", result_type=\"latest\", tweet_mode='extended' ).items(10)\n",
    "for tweet in tweets:\n",
    "     print(tweet.full_text)"
   ]
  }
 ],
 "metadata": {
  "kernelspec": {
   "display_name": "Python 3",
   "language": "python",
   "name": "python3"
  },
  "language_info": {
   "codemirror_mode": {
    "name": "ipython",
    "version": 3
   },
   "file_extension": ".py",
   "mimetype": "text/x-python",
   "name": "python",
   "nbconvert_exporter": "python",
   "pygments_lexer": "ipython3",
   "version": "3.7.3"
  }
 },
 "nbformat": 4,
 "nbformat_minor": 4
}
